{
 "cells": [
  {
   "cell_type": "code",
   "execution_count": 1,
   "id": "54d7b5c0",
   "metadata": {
    "scrolled": true
   },
   "outputs": [
    {
     "name": "stderr",
     "output_type": "stream",
     "text": [
      "┌ Warning: Importing POMDPToolbox. As of Julia 0.7 POMDPToolbox has been discontinued. Please use POMDPModelTools, POMDPPolicies, BeliefUpdaters, and/or POMDPSimulators instead.\n",
      "└ @ POMDPToolbox C:\\Users\\cveda\\.julia\\packages\\POMDPToolbox\\OdZy7\\src\\POMDPToolbox.jl:4\n",
      "┌ Warning: Error requiring `UnicodePlots` from `Plots`\n",
      "│   exception = (LoadError(\"C:\\\\Users\\\\cveda\\\\.julia\\\\packages\\\\Plots\\\\CBYO0\\\\src\\\\backends\\\\unicodeplots.jl\", 77, UndefVarError(:UserColorType)), Union{Ptr{Nothing}, Base.InterpreterIP}[Ptr{Nothing} @0x00000000026f4a81, Ptr{Nothing} @0x000000000278282b, Ptr{Nothing} @0x000000000eb69de7, Ptr{Nothing} @0x0000000002781afc, Ptr{Nothing} @0x00000000027816f4, Ptr{Nothing} @0x0000000002782048, Ptr{Nothing} @0x0000000002782c85, Base.InterpreterIP in top-level CodeInfo for Plots at statement 3, Ptr{Nothing} @0x000000000279f287, Ptr{Nothing} @0x000000000279fdc1, Ptr{Nothing} @0x00000000027a0d0f, Ptr{Nothing} @0x000000000f144dfb, Ptr{Nothing} @0x000000000f144a1f, Ptr{Nothing} @0x000000000ebf50c8, Ptr{Nothing} @0x00000000027759e6, Ptr{Nothing} @0x000000006106a3a6, Ptr{Nothing} @0x0000000002781afc, Ptr{Nothing} @0x00000000027816f4, Ptr{Nothing} @0x0000000002782048, Ptr{Nothing} @0x0000000002782c85, Base.InterpreterIP in top-level CodeInfo for Plots at statement 10, Ptr{Nothing} @0x000000000279f287, Ptr{Nothing} @0x00000000027a0d0f, Ptr{Nothing} @0x000000006106a2f3, Ptr{Nothing} @0x000000006106a323, Ptr{Nothing} @0x0000000002781afc, Ptr{Nothing} @0x00000000027816f4, Ptr{Nothing} @0x0000000002782048, Ptr{Nothing} @0x0000000002782635, Ptr{Nothing} @0x0000000002782b20, Base.InterpreterIP in MethodInstance for err(::Any, ::Module, ::String) at statement 2, Ptr{Nothing} @0x000000006106a230, Ptr{Nothing} @0x000000006106a253, Ptr{Nothing} @0x0000000002781afc, Ptr{Nothing} @0x00000000027816f4, Ptr{Nothing} @0x000000000278249a, Ptr{Nothing} @0x0000000002782635, Ptr{Nothing} @0x0000000002782b20, Base.InterpreterIP in MethodInstance for withpath(::Any, ::String) at statement 10, Ptr{Nothing} @0x0000000061069ea4, Ptr{Nothing} @0x0000000061069ed3, Ptr{Nothing} @0x0000000002781afc, Ptr{Nothing} @0x00000000027816f4, Ptr{Nothing} @0x0000000002782048, Ptr{Nothing} @0x0000000002782b20, Base.InterpreterIP in MethodInstance for listenpkg(::Any, ::Base.PkgId) at statement 3, Ptr{Nothing} @0x000000006105f1dd, Ptr{Nothing} @0x000000006105f7f3, Ptr{Nothing} @0x000000000279ea40, Ptr{Nothing} @0x0000000002795010, Ptr{Nothing} @0x0000000060fede7c, Ptr{Nothing} @0x0000000060fef116, Ptr{Nothing} @0x0000000060ff1159, Ptr{Nothing} @0x0000000060ff3233, Ptr{Nothing} @0x0000000060ff3f13, Ptr{Nothing} @0x000000000279e4c6, Ptr{Nothing} @0x00000000027a01ec, Ptr{Nothing} @0x000000000279fdc1, Ptr{Nothing} @0x00000000027a0d0f, Ptr{Nothing} @0x000000006104f115, Ptr{Nothing} @0x000000006104f4ef, Ptr{Nothing} @0x000000006104c0d8, Ptr{Nothing} @0x00000000027759e6, Ptr{Nothing} @0x0000000061028f62, Ptr{Nothing} @0x0000000061029196, Ptr{Nothing} @0x00000000610291b3, Ptr{Nothing} @0x0000000002786d44])\n",
      "└ @ Requires C:\\Users\\cveda\\.julia\\packages\\Requires\\7Ncym\\src\\require.jl:49\n"
     ]
    }
   ],
   "source": [
    "import ParticleFilters: obs_weight\n",
    "using POMDPs, QuickPOMDPs, POMDPModelTools, POMDPSimulators, QMDP, POMDPPolicies\n",
    "using POMDPToolbox\n",
    "using Distributions\n",
    "using Parameters\n",
    "using BeliefUpdaters\n",
    "using Plots\n",
    "using StaticArrays"
   ]
  },
  {
   "cell_type": "code",
   "execution_count": 2,
   "id": "575c4664",
   "metadata": {},
   "outputs": [
    {
     "data": {
      "text/plain": [
       "RacecarParameters"
      ]
     },
     "execution_count": 2,
     "metadata": {},
     "output_type": "execute_result"
    }
   ],
   "source": [
    "@with_kw struct RacecarParameters\n",
    "    # Rewards\n",
    "    r_crash::Real = -100 #Terminal State\n",
    "    r_avoided_stop::Real = -4 #Terminal State\n",
    "    r_avoided_continue::Real = 20 # No Crash yet by continuing straight.\n",
    "    r_avoided_left::Real = -5 #Terminal State\n",
    "    r_avoided_right::Real = -6 #Terminal State\n",
    "    \n",
    "    # Transition probability\n",
    "    p_threat_arises::Real = .15   #Probability that the car behind is going to be a threat\n",
    "    p_crash_when_continue_wthreat::Real = .5\n",
    "    #Obervation probabilities\n",
    "    p_collision_detected::Real = .7 # Suboptimal conditions when the lidar only has a 70% chance of detecting the collision\n",
    "    p_false_alarm::Real = .1        # when no threat\n",
    "end"
   ]
  },
  {
   "cell_type": "code",
   "execution_count": 3,
   "id": "e27e756e",
   "metadata": {},
   "outputs": [],
   "source": [
    "params = RacecarParameters();"
   ]
  },
  {
   "cell_type": "code",
   "execution_count": 4,
   "id": "c458803e",
   "metadata": {},
   "outputs": [],
   "source": [
    "begin\n",
    "    @enum State Crash Collision_AC Collision_AS Collision_AL Collision_AR \n",
    "    @enum Action Continue Stop Left_T Right_T \n",
    "    @enum Observation Collision_D Collision_U\n",
    "end"
   ]
  },
  {
   "cell_type": "code",
   "execution_count": 5,
   "id": "a75b2e7a",
   "metadata": {},
   "outputs": [
    {
     "data": {
      "text/plain": [
       "5-element Vector{State}:\n",
       " Crash::State = 0\n",
       " Collision_AC::State = 1\n",
       " Collision_AS::State = 2\n",
       " Collision_AL::State = 3\n",
       " Collision_AR::State = 4"
      ]
     },
     "execution_count": 5,
     "metadata": {},
     "output_type": "execute_result"
    }
   ],
   "source": [
    "𝒮 = [Crash, Collision_AC, Collision_AS, Collision_AL, Collision_AR]"
   ]
  },
  {
   "cell_type": "code",
   "execution_count": 6,
   "id": "a45e3fb2",
   "metadata": {},
   "outputs": [
    {
     "data": {
      "text/plain": [
       "4-element Vector{Action}:\n",
       " Continue::Action = 0\n",
       " Stop::Action = 1\n",
       " Left_T::Action = 2\n",
       " Right_T::Action = 3"
      ]
     },
     "execution_count": 6,
     "metadata": {},
     "output_type": "execute_result"
    }
   ],
   "source": [
    "𝒜 = [Continue, Stop, Left_T, Right_T]"
   ]
  },
  {
   "cell_type": "code",
   "execution_count": 7,
   "id": "cbec2516",
   "metadata": {},
   "outputs": [
    {
     "data": {
      "text/plain": [
       "2-element Vector{Observation}:\n",
       " Collision_D::Observation = 0\n",
       " Collision_U::Observation = 1"
      ]
     },
     "execution_count": 7,
     "metadata": {},
     "output_type": "execute_result"
    }
   ],
   "source": [
    "𝒪 = [Collision_D, Collision_U]"
   ]
  },
  {
   "cell_type": "code",
   "execution_count": 8,
   "id": "73a964f8",
   "metadata": {},
   "outputs": [
    {
     "data": {
      "text/plain": [
       "Deterministic{State}(Collision_AC)"
      ]
     },
     "execution_count": 8,
     "metadata": {},
     "output_type": "execute_result"
    }
   ],
   "source": [
    "initialstate_distr = Deterministic(Collision_AC)"
   ]
  },
  {
   "cell_type": "code",
   "execution_count": 9,
   "id": "151c0876",
   "metadata": {},
   "outputs": [
    {
     "data": {
      "text/plain": [
       "T (generic function with 1 method)"
      ]
     },
     "execution_count": 9,
     "metadata": {},
     "output_type": "execute_result"
    }
   ],
   "source": [
    "function T(s::State, a::Action)\n",
    "    p_Crash_I::Real = params.p_crash_when_continue_wthreat\n",
    "    p_Threat::Real = params.p_threat_arises\n",
    "    p_Crash::Real = p_Threat*p_Crash_I\n",
    "    if a == Right_T\n",
    "        return SparseCat([Crash, Collision_AC, Collision_AS, Collision_AL, Collision_AR], [0,0,0,0,1])\n",
    "    elseif a == Left_T\n",
    "        return SparseCat([Crash, Collision_AC, Collision_AS, Collision_AL, Collision_AR], [0,0,0,1,0]) \n",
    "    elseif a == Stop\n",
    "        return SparseCat([Crash, Collision_AC, Collision_AS, Collision_AL, Collision_AR], [0,0,1,0,0])\n",
    "    elseif s == Collision_AC  && a == Continue\n",
    "        return SparseCat([Crash, Collision_AC, Collision_AS, Collision_AL, Collision_AR], [p_Crash,1-p_Crash,0,0])\n",
    "    end\n",
    "end"
   ]
  },
  {
   "cell_type": "code",
   "execution_count": 10,
   "id": "aa595d11",
   "metadata": {},
   "outputs": [
    {
     "data": {
      "text/plain": [
       "O (generic function with 1 method)"
      ]
     },
     "execution_count": 10,
     "metadata": {},
     "output_type": "execute_result"
    }
   ],
   "source": [
    "function O(s::State, a::Action, sp::State)\n",
    "    p_True_Detect = params.p_collision_detected\n",
    "    p_False_Detect = params.p_false_alarm\n",
    "    if sp == Crash\n",
    "        return SparseCat([Collision_D, Collision_U], [p_True_Detect, 1-p_True_Detect])\n",
    "    elseif sp == Collision_AC\n",
    "        return SparseCat([Collision_D, Collision_U], [p_False_Detect, 1-p_False_Detect])\n",
    "    end\n",
    "end        "
   ]
  },
  {
   "cell_type": "code",
   "execution_count": 11,
   "id": "d135f0f1",
   "metadata": {},
   "outputs": [
    {
     "data": {
      "text/plain": [
       "R (generic function with 1 method)"
      ]
     },
     "execution_count": 11,
     "metadata": {},
     "output_type": "execute_result"
    }
   ],
   "source": [
    "function R(s::State, a::Action)\n",
    "    return(s == Crash ? params.r_crash : 0) + (a == Continue ? params.r_avoided_continue : 0) + \n",
    "                                              (a == Stop ? params.r_avoided_stop : 0) +\n",
    "                                              (a == Left_T ? params.r_avoided_left : 0) + \n",
    "                                              (a == Right_T ? params.r_avoided_right : 0) \n",
    "end"
   ]
  },
  {
   "cell_type": "code",
   "execution_count": 12,
   "id": "749ae0df",
   "metadata": {},
   "outputs": [],
   "source": [
    "# R(Collision_AC, Continue)"
   ]
  },
  {
   "cell_type": "code",
   "execution_count": 13,
   "id": "38aa37df",
   "metadata": {},
   "outputs": [
    {
     "data": {
      "text/plain": [
       "0.9"
      ]
     },
     "execution_count": 13,
     "metadata": {},
     "output_type": "execute_result"
    }
   ],
   "source": [
    "γ = 0.9"
   ]
  },
  {
   "cell_type": "code",
   "execution_count": 14,
   "id": "3e9b9d81",
   "metadata": {},
   "outputs": [],
   "source": [
    "abstract type Racecar <: POMDP{State, Action, Observation}end"
   ]
  },
  {
   "cell_type": "code",
   "execution_count": 15,
   "id": "d69edb82",
   "metadata": {},
   "outputs": [],
   "source": [
    "pomdp = QuickPOMDP(Racecar,\n",
    "    states = 𝒮,\n",
    "    actions = 𝒜,\n",
    "    observations = 𝒪,\n",
    "    transition = T,\n",
    "    reward = R,\n",
    "    observation = O,\n",
    "    discount = γ,\n",
    "    initialstate = initialstate_distr);"
   ]
  },
  {
   "cell_type": "code",
   "execution_count": 16,
   "id": "54ca0cb4",
   "metadata": {},
   "outputs": [],
   "source": [
    "struct ActWhenThreat <: Policy end"
   ]
  },
  {
   "cell_type": "code",
   "execution_count": 17,
   "id": "2a3a9356",
   "metadata": {},
   "outputs": [],
   "source": [
    "struct ActWhenBelievedThreat <: Policy end"
   ]
  },
  {
   "cell_type": "code",
   "execution_count": 18,
   "id": "5b809352",
   "metadata": {},
   "outputs": [],
   "source": [
    "const Belief = Vector{Real};"
   ]
  },
  {
   "cell_type": "code",
   "execution_count": 19,
   "id": "489957a2",
   "metadata": {},
   "outputs": [],
   "source": [
    "function POMDPs.action(::ActWhenThreat, o::Observation)\n",
    "    return o == Collision_D ? Stop : Continue\n",
    "end;"
   ]
  },
  {
   "cell_type": "code",
   "execution_count": 20,
   "id": "3fb03155",
   "metadata": {},
   "outputs": [],
   "source": [
    "function POMDPs.action(::ActWhenBelievedThreat, b::Belief)\n",
    "    if b[1] > b[2]\n",
    "        return Stop\n",
    "    else\n",
    "        return Continue\n",
    "    end\n",
    "end;"
   ]
  },
  {
   "cell_type": "code",
   "execution_count": 21,
   "id": "97d04887",
   "metadata": {},
   "outputs": [
    {
     "data": {
      "text/plain": [
       "updater (generic function with 1 method)"
      ]
     },
     "execution_count": 21,
     "metadata": {},
     "output_type": "execute_result"
    }
   ],
   "source": [
    "updater(pomdp::QuickPOMDP{Racecar}) = DiscreteUpdater(pomdp)"
   ]
  },
  {
   "cell_type": "code",
   "execution_count": 22,
   "id": "2cab2a1c",
   "metadata": {},
   "outputs": [
    {
     "data": {
      "text/plain": [
       "5-element Vector{Float64}:\n",
       " 0.2\n",
       " 0.2\n",
       " 0.2\n",
       " 0.2\n",
       " 0.2"
      ]
     },
     "execution_count": 22,
     "metadata": {},
     "output_type": "execute_result"
    }
   ],
   "source": [
    "b0 = uniform_belief(pomdp); b0.b"
   ]
  },
  {
   "cell_type": "code",
   "execution_count": 23,
   "id": "9341c404",
   "metadata": {
    "scrolled": true
   },
   "outputs": [
    {
     "ename": "LoadError",
     "evalue": "MethodError: no method matching support(::Nothing)\n\u001b[0mClosest candidates are:\n\u001b[0m  support(\u001b[91m::ParticleFilters.ParticleCollection\u001b[39m) at C:\\Users\\cveda\\.julia\\packages\\ParticleFilters\\KCmZS\\src\\beliefs.jl:103\n\u001b[0m  support(\u001b[91m::ParticleFilters.AbstractParticleBelief\u001b[39m) at C:\\Users\\cveda\\.julia\\packages\\ParticleFilters\\KCmZS\\src\\beliefs.jl:173\n\u001b[0m  support(\u001b[91m::DiscreteBelief\u001b[39m) at C:\\Users\\cveda\\.julia\\packages\\BeliefUpdaters\\gFL9O\\src\\discrete.jl:73\n\u001b[0m  ...",
     "output_type": "error",
     "traceback": [
      "MethodError: no method matching support(::Nothing)\n\u001b[0mClosest candidates are:\n\u001b[0m  support(\u001b[91m::ParticleFilters.ParticleCollection\u001b[39m) at C:\\Users\\cveda\\.julia\\packages\\ParticleFilters\\KCmZS\\src\\beliefs.jl:103\n\u001b[0m  support(\u001b[91m::ParticleFilters.AbstractParticleBelief\u001b[39m) at C:\\Users\\cveda\\.julia\\packages\\ParticleFilters\\KCmZS\\src\\beliefs.jl:173\n\u001b[0m  support(\u001b[91m::DiscreteBelief\u001b[39m) at C:\\Users\\cveda\\.julia\\packages\\BeliefUpdaters\\gFL9O\\src\\discrete.jl:73\n\u001b[0m  ...",
      "",
      "Stacktrace:",
      " [1] weighted_iterator(d::Nothing)",
      "   @ POMDPModelTools C:\\Users\\cveda\\.julia\\packages\\POMDPModelTools\\PYObx\\src\\distributions\\weighted_iteration.jl:19",
      " [2] update(bu::DiscreteUpdater{QuickPOMDP{Racecar, State, Action, Observation, NamedTuple{(:stateindex, :isterminal, :obsindex, :states, :observations, :discount, :actions, :observation, :actionindex, :transition, :reward, :initialstate), Tuple{Dict{State, Int64}, Bool, Dict{Observation, Int64}, Vector{State}, Vector{Observation}, Float64, Vector{Action}, typeof(O), Dict{Action, Int64}, typeof(T), typeof(R), Deterministic{State}}}}}, b::DiscreteBelief{QuickPOMDP{Racecar, State, Action, Observation, NamedTuple{(:stateindex, :isterminal, :obsindex, :states, :observations, :discount, :actions, :observation, :actionindex, :transition, :reward, :initialstate), Tuple{Dict{State, Int64}, Bool, Dict{Observation, Int64}, Vector{State}, Vector{Observation}, Float64, Vector{Action}, typeof(O), Dict{Action, Int64}, typeof(T), typeof(R), Deterministic{State}}}}, State}, a::Action, o::Observation)",
      "   @ BeliefUpdaters C:\\Users\\cveda\\.julia\\packages\\BeliefUpdaters\\gFL9O\\src\\discrete.jl:121",
      " [3] top-level scope",
      "   @ In[23]:4",
      " [4] eval",
      "   @ .\\boot.jl:360 [inlined]",
      " [5] include_string(mapexpr::typeof(REPL.softscope), mod::Module, code::String, filename::String)",
      "   @ Base .\\loading.jl:1116"
     ]
    }
   ],
   "source": [
    "begin\n",
    "    a1 = Continue \n",
    "    o1 = Collision_U\n",
    "    b1 = update(DiscreteUpdater(pomdp), b0, a1, o1)\n",
    "    b1.b\n",
    "end"
   ]
  },
  {
   "cell_type": "code",
   "execution_count": 24,
   "id": "e50b6676",
   "metadata": {},
   "outputs": [],
   "source": [
    "using QMDP"
   ]
  },
  {
   "cell_type": "code",
   "execution_count": 25,
   "id": "bbec82a4",
   "metadata": {
    "scrolled": true
   },
   "outputs": [
    {
     "data": {
      "text/plain": [
       "QMDPSolver{DiscreteValueIteration.ValueIterationSolver}(DiscreteValueIteration.ValueIterationSolver(100, 0.001, false, true, Float64[]))"
      ]
     },
     "execution_count": 25,
     "metadata": {},
     "output_type": "execute_result"
    }
   ],
   "source": [
    "solver = QMDPSolver()"
   ]
  },
  {
   "cell_type": "code",
   "execution_count": 26,
   "id": "d07bf2c3",
   "metadata": {},
   "outputs": [
    {
     "name": "stdout",
     "output_type": "stream",
     "text": [
      "INFO: POMDPLinter requirements for \u001b[34msolve(::ValueIterationSolver, ::Union{MDP,POMDP})\u001b[39m and dependencies. ([✔] = implemented correctly; [X] = not implemented; [?] = could not determine)\n",
      "\n",
      "For \u001b[34msolve(::ValueIterationSolver, ::Union{MDP,POMDP})\u001b[39m:\n",
      "\u001b[32m  [✔] discount(::UnderlyingMDP{QuickPOMDP{Racecar, State, Action, Observation, NamedTuple{(:stateindex, :isterminal, :obsindex, :states, :observations, :discount, :actions, :observation, :actionindex, :transition, :reward, :initialstate), Tuple{Dict{State, Int64}, Bool, Dict{Observation, Int64}, Vector{State}, Vector{Observation}, Float64, Vector{Action}, typeof(O), Dict{Action, Int64}, typeof(T), typeof(R), Deterministic{State}}}}StateAction})\u001b[39m\n",
      "\u001b[32m  [✔] transition(::UnderlyingMDP{QuickPOMDP{Racecar, State, Action, Observation, NamedTuple{(:stateindex, :isterminal, :obsindex, :states, :observations, :discount, :actions, :observation, :actionindex, :transition, :reward, :initialstate), Tuple{Dict{State, Int64}, Bool, Dict{Observation, Int64}, Vector{State}, Vector{Observation}, Float64, Vector{Action}, typeof(O), Dict{Action, Int64}, typeof(T), typeof(R), Deterministic{State}}}}StateAction}, ::State, ::Action)\u001b[39m\n",
      "\u001b[32m  [✔] reward(::UnderlyingMDP{QuickPOMDP{Racecar, State, Action, Observation, NamedTuple{(:stateindex, :isterminal, :obsindex, :states, :observations, :discount, :actions, :observation, :actionindex, :transition, :reward, :initialstate), Tuple{Dict{State, Int64}, Bool, Dict{Observation, Int64}, Vector{State}, Vector{Observation}, Float64, Vector{Action}, typeof(O), Dict{Action, Int64}, typeof(T), typeof(R), Deterministic{State}}}}StateAction}, ::State, ::Action, ::State)\u001b[39m\n",
      "\u001b[32m  [✔] stateindex(::UnderlyingMDP{QuickPOMDP{Racecar, State, Action, Observation, NamedTuple{(:stateindex, :isterminal, :obsindex, :states, :observations, :discount, :actions, :observation, :actionindex, :transition, :reward, :initialstate), Tuple{Dict{State, Int64}, Bool, Dict{Observation, Int64}, Vector{State}, Vector{Observation}, Float64, Vector{Action}, typeof(O), Dict{Action, Int64}, typeof(T), typeof(R), Deterministic{State}}}}StateAction}, ::State)\u001b[39m\n",
      "\u001b[32m  [✔] actionindex(::UnderlyingMDP{QuickPOMDP{Racecar, State, Action, Observation, NamedTuple{(:stateindex, :isterminal, :obsindex, :states, :observations, :discount, :actions, :observation, :actionindex, :transition, :reward, :initialstate), Tuple{Dict{State, Int64}, Bool, Dict{Observation, Int64}, Vector{State}, Vector{Observation}, Float64, Vector{Action}, typeof(O), Dict{Action, Int64}, typeof(T), typeof(R), Deterministic{State}}}}StateAction}, ::Action)\u001b[39m\n",
      "\u001b[32m  [✔] actions(::UnderlyingMDP{QuickPOMDP{Racecar, State, Action, Observation, NamedTuple{(:stateindex, :isterminal, :obsindex, :states, :observations, :discount, :actions, :observation, :actionindex, :transition, :reward, :initialstate), Tuple{Dict{State, Int64}, Bool, Dict{Observation, Int64}, Vector{State}, Vector{Observation}, Float64, Vector{Action}, typeof(O), Dict{Action, Int64}, typeof(T), typeof(R), Deterministic{State}}}}StateAction}, ::State)\u001b[39m\n",
      "\u001b[32m  [✔] length(::Array{State1})\u001b[39m\n",
      "\u001b[32m  [✔] length(::Array{Action1})\u001b[39m\n",
      "\u001b[31m  [X] support(::Nothing)\u001b[39m\n",
      "\u001b[31m  [X] pdf(::Nothing, ::State)\u001b[39m\n",
      "For \u001b[34mordered_states(::Union{MDP,POMDP})\u001b[39m (in solve(::ValueIterationSolver, ::Union{MDP,POMDP})):\n",
      "\u001b[32m  [✔] states(::UnderlyingMDP{QuickPOMDP{Racecar, State, Action, Observation, NamedTuple{(:stateindex, :isterminal, :obsindex, :states, :observations, :discount, :actions, :observation, :actionindex, :transition, :reward, :initialstate), Tuple{Dict{State, Int64}, Bool, Dict{Observation, Int64}, Vector{State}, Vector{Observation}, Float64, Vector{Action}, typeof(O), Dict{Action, Int64}, typeof(T), typeof(R), Deterministic{State}}}}StateAction})\u001b[39m\n",
      "For \u001b[34mordered_actions(::Union{MDP,POMDP})\u001b[39m (in solve(::ValueIterationSolver, ::Union{MDP,POMDP})):\n",
      "\u001b[32m  [✔] actions(::UnderlyingMDP{QuickPOMDP{Racecar, State, Action, Observation, NamedTuple{(:stateindex, :isterminal, :obsindex, :states, :observations, :discount, :actions, :observation, :actionindex, :transition, :reward, :initialstate), Tuple{Dict{State, Int64}, Bool, Dict{Observation, Int64}, Vector{State}, Vector{Observation}, Float64, Vector{Action}, typeof(O), Dict{Action, Int64}, typeof(T), typeof(R), Deterministic{State}}}}StateAction})\u001b[39m\n",
      "Note: Missing methods are often due to incorrect importing. You must explicitly import POMDPs functions to add new methods.\n",
      "\n"
     ]
    },
    {
     "ename": "LoadError",
     "evalue": "MethodError: no method matching support(::Nothing)\n\u001b[0mClosest candidates are:\n\u001b[0m  support(\u001b[91m::ParticleFilters.ParticleCollection\u001b[39m) at C:\\Users\\cveda\\.julia\\packages\\ParticleFilters\\KCmZS\\src\\beliefs.jl:103\n\u001b[0m  support(\u001b[91m::ParticleFilters.AbstractParticleBelief\u001b[39m) at C:\\Users\\cveda\\.julia\\packages\\ParticleFilters\\KCmZS\\src\\beliefs.jl:173\n\u001b[0m  support(\u001b[91m::DiscreteBelief\u001b[39m) at C:\\Users\\cveda\\.julia\\packages\\BeliefUpdaters\\gFL9O\\src\\discrete.jl:73\n\u001b[0m  ...",
     "output_type": "error",
     "traceback": [
      "MethodError: no method matching support(::Nothing)\n\u001b[0mClosest candidates are:\n\u001b[0m  support(\u001b[91m::ParticleFilters.ParticleCollection\u001b[39m) at C:\\Users\\cveda\\.julia\\packages\\ParticleFilters\\KCmZS\\src\\beliefs.jl:103\n\u001b[0m  support(\u001b[91m::ParticleFilters.AbstractParticleBelief\u001b[39m) at C:\\Users\\cveda\\.julia\\packages\\ParticleFilters\\KCmZS\\src\\beliefs.jl:173\n\u001b[0m  support(\u001b[91m::DiscreteBelief\u001b[39m) at C:\\Users\\cveda\\.julia\\packages\\BeliefUpdaters\\gFL9O\\src\\discrete.jl:73\n\u001b[0m  ...",
      "",
      "Stacktrace:",
      " [1] weighted_iterator(d::Nothing)",
      "   @ POMDPModelTools C:\\Users\\cveda\\.julia\\packages\\POMDPModelTools\\PYObx\\src\\distributions\\weighted_iteration.jl:19",
      " [2] macro expansion",
      "   @ C:\\Users\\cveda\\.julia\\packages\\DiscreteValueIteration\\FjeJj\\src\\vanilla.jl:118 [inlined]",
      " [3] macro expansion",
      "   @ .\\timing.jl:287 [inlined]",
      " [4] solve(solver::DiscreteValueIteration.ValueIterationSolver, mdp::UnderlyingMDP{QuickPOMDP{Racecar, State, Action, Observation, NamedTuple{(:stateindex, :isterminal, :obsindex, :states, :observations, :discount, :actions, :observation, :actionindex, :transition, :reward, :initialstate), Tuple{Dict{State, Int64}, Bool, Dict{Observation, Int64}, Vector{State}, Vector{Observation}, Float64, Vector{Action}, typeof(O), Dict{Action, Int64}, typeof(T), typeof(R), Deterministic{State}}}}, State, Action}; kwargs::Base.Iterators.Pairs{Union{}, Union{}, Tuple{}, NamedTuple{(), Tuple{}}})",
      "   @ DiscreteValueIteration C:\\Users\\cveda\\.julia\\packages\\DiscreteValueIteration\\FjeJj\\src\\vanilla.jl:102",
      " [5] solve",
      "   @ C:\\Users\\cveda\\.julia\\packages\\DiscreteValueIteration\\FjeJj\\src\\vanilla.jl:67 [inlined]",
      " [6] solve(solver::QMDPSolver{DiscreteValueIteration.ValueIterationSolver}, pomdp::QuickPOMDP{Racecar, State, Action, Observation, NamedTuple{(:stateindex, :isterminal, :obsindex, :states, :observations, :discount, :actions, :observation, :actionindex, :transition, :reward, :initialstate), Tuple{Dict{State, Int64}, Bool, Dict{Observation, Int64}, Vector{State}, Vector{Observation}, Float64, Vector{Action}, typeof(O), Dict{Action, Int64}, typeof(T), typeof(R), Deterministic{State}}}})",
      "   @ QMDP C:\\Users\\cveda\\.julia\\packages\\QMDP\\N6dCz\\src\\vanilla.jl:34",
      " [7] top-level scope",
      "   @ In[26]:1",
      " [8] eval",
      "   @ .\\boot.jl:360 [inlined]",
      " [9] include_string(mapexpr::typeof(REPL.softscope), mod::Module, code::String, filename::String)",
      "   @ Base .\\loading.jl:1116"
     ]
    }
   ],
   "source": [
    "policy = solve(solver, pomdp)"
   ]
  },
  {
   "cell_type": "code",
   "execution_count": 27,
   "id": "3df6d0a3",
   "metadata": {},
   "outputs": [],
   "source": [
    "using FIB"
   ]
  },
  {
   "cell_type": "code",
   "execution_count": 28,
   "id": "d89bf046",
   "metadata": {},
   "outputs": [
    {
     "data": {
      "text/plain": [
       "FIBSolver(100, 0.001, false)"
      ]
     },
     "execution_count": 28,
     "metadata": {},
     "output_type": "execute_result"
    }
   ],
   "source": [
    "fib_solver = FIBSolver()"
   ]
  },
  {
   "cell_type": "code",
   "execution_count": 29,
   "id": "3fa02075",
   "metadata": {},
   "outputs": [
    {
     "ename": "LoadError",
     "evalue": "MethodError: no method matching support(::Nothing)\n\u001b[0mClosest candidates are:\n\u001b[0m  support(\u001b[91m::ParticleFilters.ParticleCollection\u001b[39m) at C:\\Users\\cveda\\.julia\\packages\\ParticleFilters\\KCmZS\\src\\beliefs.jl:103\n\u001b[0m  support(\u001b[91m::ParticleFilters.AbstractParticleBelief\u001b[39m) at C:\\Users\\cveda\\.julia\\packages\\ParticleFilters\\KCmZS\\src\\beliefs.jl:173\n\u001b[0m  support(\u001b[91m::DiscreteBelief\u001b[39m) at C:\\Users\\cveda\\.julia\\packages\\BeliefUpdaters\\gFL9O\\src\\discrete.jl:73\n\u001b[0m  ...",
     "output_type": "error",
     "traceback": [
      "MethodError: no method matching support(::Nothing)\n\u001b[0mClosest candidates are:\n\u001b[0m  support(\u001b[91m::ParticleFilters.ParticleCollection\u001b[39m) at C:\\Users\\cveda\\.julia\\packages\\ParticleFilters\\KCmZS\\src\\beliefs.jl:103\n\u001b[0m  support(\u001b[91m::ParticleFilters.AbstractParticleBelief\u001b[39m) at C:\\Users\\cveda\\.julia\\packages\\ParticleFilters\\KCmZS\\src\\beliefs.jl:173\n\u001b[0m  support(\u001b[91m::DiscreteBelief\u001b[39m) at C:\\Users\\cveda\\.julia\\packages\\BeliefUpdaters\\gFL9O\\src\\discrete.jl:73\n\u001b[0m  ...",
      "",
      "Stacktrace:",
      " [1] weighted_iterator(d::Nothing)",
      "   @ POMDPModelTools C:\\Users\\cveda\\.julia\\packages\\POMDPModelTools\\PYObx\\src\\distributions\\weighted_iteration.jl:19",
      " [2] solve(solver::FIBSolver, pomdp::QuickPOMDP{Racecar, State, Action, Observation, NamedTuple{(:stateindex, :isterminal, :obsindex, :states, :observations, :discount, :actions, :observation, :actionindex, :transition, :reward, :initialstate), Tuple{Dict{State, Int64}, Bool, Dict{Observation, Int64}, Vector{State}, Vector{Observation}, Float64, Vector{Action}, typeof(O), Dict{Action, Int64}, typeof(T), typeof(R), Deterministic{State}}}}; kwargs::Base.Iterators.Pairs{Union{}, Union{}, Tuple{}, NamedTuple{(), Tuple{}}})",
      "   @ FIB C:\\Users\\cveda\\.julia\\packages\\FIB\\0EJRY\\src\\vanilla.jl:40",
      " [3] solve(solver::FIBSolver, pomdp::QuickPOMDP{Racecar, State, Action, Observation, NamedTuple{(:stateindex, :isterminal, :obsindex, :states, :observations, :discount, :actions, :observation, :actionindex, :transition, :reward, :initialstate), Tuple{Dict{State, Int64}, Bool, Dict{Observation, Int64}, Vector{State}, Vector{Observation}, Float64, Vector{Action}, typeof(O), Dict{Action, Int64}, typeof(T), typeof(R), Deterministic{State}}}})",
      "   @ FIB C:\\Users\\cveda\\.julia\\packages\\FIB\\0EJRY\\src\\vanilla.jl:13",
      " [4] top-level scope",
      "   @ In[29]:1",
      " [5] eval",
      "   @ .\\boot.jl:360 [inlined]",
      " [6] include_string(mapexpr::typeof(REPL.softscope), mod::Module, code::String, filename::String)",
      "   @ Base .\\loading.jl:1116"
     ]
    }
   ],
   "source": [
    "fib_policy = solve(fib_solver, pomdp)"
   ]
  },
  {
   "cell_type": "code",
   "execution_count": 30,
   "id": "965f2747",
   "metadata": {},
   "outputs": [],
   "source": [
    "using Plots; default(fontfamily=\"Computer Modern\", framestyle=:box) # LaTex-style"
   ]
  },
  {
   "cell_type": "code",
   "execution_count": 31,
   "id": "1f7145f2",
   "metadata": {},
   "outputs": [
    {
     "ename": "LoadError",
     "evalue": "UndefVarError: policy not defined",
     "output_type": "error",
     "traceback": [
      "UndefVarError: policy not defined",
      "",
      "Stacktrace:",
      " [1] top-level scope",
      "   @ In[31]:1",
      " [2] eval",
      "   @ .\\boot.jl:360 [inlined]",
      " [3] include_string(mapexpr::typeof(REPL.softscope), mod::Module, code::String, filename::String)",
      "   @ Base .\\loading.jl:1116"
     ]
    }
   ],
   "source": [
    "action(policy, b)"
   ]
  },
  {
   "cell_type": "code",
   "execution_count": 32,
   "id": "27d7e26a",
   "metadata": {},
   "outputs": [
    {
     "name": "stderr",
     "output_type": "stream",
     "text": [
      "WARNING: using BasicPOMCP.updater in module Main conflicts with an existing identifier.\n"
     ]
    }
   ],
   "source": [
    "using BasicPOMCP"
   ]
  },
  {
   "cell_type": "code",
   "execution_count": 33,
   "id": "79bcc0b2",
   "metadata": {},
   "outputs": [
    {
     "data": {
      "text/plain": [
       "POMCPSolver\n",
       "  max_depth: Int64 20\n",
       "  c: Float64 1.0\n",
       "  tree_queries: Int64 1000\n",
       "  max_time: Float64 Inf\n",
       "  tree_in_info: Bool false\n",
       "  default_action: ExceptionRethrow ExceptionRethrow()\n",
       "  rng: Random._GLOBAL_RNG Random._GLOBAL_RNG()\n",
       "  estimate_value: RolloutEstimator\n"
      ]
     },
     "execution_count": 33,
     "metadata": {},
     "output_type": "execute_result"
    }
   ],
   "source": [
    "pomcp_solver = POMCPSolver()"
   ]
  },
  {
   "cell_type": "code",
   "execution_count": 34,
   "id": "21ad0d53",
   "metadata": {},
   "outputs": [],
   "source": [
    "pomcp_planner = solve(pomcp_solver, pomdp);"
   ]
  },
  {
   "cell_type": "code",
   "execution_count": 35,
   "id": "d58c0c15",
   "metadata": {},
   "outputs": [
    {
     "data": {
      "text/plain": [
       "Deterministic{State}(Collision_AC)"
      ]
     },
     "execution_count": 35,
     "metadata": {},
     "output_type": "execute_result"
    }
   ],
   "source": [
    "initialstate(pomdp)"
   ]
  },
  {
   "cell_type": "code",
   "execution_count": 36,
   "id": "e4d7d2b7",
   "metadata": {},
   "outputs": [
    {
     "ename": "LoadError",
     "evalue": "UndefVarError: initial_state_distribution not defined",
     "output_type": "error",
     "traceback": [
      "UndefVarError: initial_state_distribution not defined",
      "",
      "Stacktrace:",
      " [1] top-level scope",
      "   @ In[36]:2",
      " [2] eval",
      "   @ .\\boot.jl:360 [inlined]",
      " [3] include_string(mapexpr::typeof(REPL.softscope), mod::Module, code::String, filename::String)",
      "   @ Base .\\loading.jl:1116"
     ]
    }
   ],
   "source": [
    "using D3Trees\n",
    "b = initial_state_distribution(p)\n",
    "a, i = action_info(planner, b)\n",
    "D3Tree(i[:tree], init_expand=2)"
   ]
  },
  {
   "cell_type": "code",
   "execution_count": 37,
   "id": "3039f671",
   "metadata": {},
   "outputs": [],
   "source": [
    "using D3Trees"
   ]
  },
  {
   "cell_type": "code",
   "execution_count": 38,
   "id": "14e70b8c",
   "metadata": {},
   "outputs": [
    {
     "ename": "LoadError",
     "evalue": "UndefVarError: info not defined",
     "output_type": "error",
     "traceback": [
      "UndefVarError: info not defined",
      "",
      "Stacktrace:",
      " [1] top-level scope",
      "   @ In[38]:1",
      " [2] eval",
      "   @ .\\boot.jl:360 [inlined]",
      " [3] include_string(mapexpr::typeof(REPL.softscope), mod::Module, code::String, filename::String)",
      "   @ Base .\\loading.jl:1116"
     ]
    }
   ],
   "source": [
    "tree = D3Tree(info[:tree], init_expand=3)"
   ]
  }
 ],
 "metadata": {
  "kernelspec": {
   "display_name": "Julia 1.6.2",
   "language": "julia",
   "name": "julia-1.6"
  },
  "language_info": {
   "file_extension": ".jl",
   "mimetype": "application/julia",
   "name": "julia",
   "version": "1.6.2"
  }
 },
 "nbformat": 4,
 "nbformat_minor": 5
}
